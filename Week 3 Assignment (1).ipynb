{
  "metadata": {
    "kernelspec": {
      "name": "python",
      "display_name": "Python (Pyodide)",
      "language": "python"
    },
    "language_info": {
      "codemirror_mode": {
        "name": "python",
        "version": 3
      },
      "file_extension": ".py",
      "mimetype": "text/x-python",
      "name": "python",
      "nbconvert_exporter": "python",
      "pygments_lexer": "ipython3",
      "version": "3.8"
    }
  },
  "nbformat_minor": 5,
  "nbformat": 4,
  "cells": [
    {
      "id": "8bdf9550-a6cd-45e3-94e5-7ad59ae305b9",
      "cell_type": "code",
      "source": "import argparse\nimport csv\nimport re\nimport requests\nfrom collections import Counter\nfrom datetime import datetime\n\ndef download_file(url):\n    response = requests.get(url)\n    response.raise_for_status()\n    return response.text.splitlines()\n\ndef process_csv(file_lines):\n    reader = csv.reader(file_lines)\n    data = [row for row in reader]\n    return data\n\ndef count_image_hits(data):\n    image_pattern = re.compile(r'.*\\.(jpg|png|gif)$', re.IGNORECASE)\n    total_hits = len(data)\n    image_hits = sum(1 for row in data if image_pattern.match(row[0]))\n    image_percentage = (image_hits / total_hits) * 100 if total_hits > 0 else 0\n    print(f\"Image requests account for {image_percentage:.2f}% of all requests\")\n\ndef find_popular_browser(data):\n    browser_patterns = {\n        'Firefox': re.compile(r'Firefox', re.IGNORECASE),\n        'Chrome': re.compile(r'Chrome', re.IGNORECASE),\n        'Internet Explorer': re.compile(r'MSIE|Trident', re.IGNORECASE),\n        'Safari': re.compile(r'Safari', re.IGNORECASE)\n    }\n    browser_counts = Counter()\n    for row in data:\n        user_agent = row[2]\n        for browser, pattern in browser_patterns.items():\n            if pattern.search(user_agent):\n                browser_counts[browser] += 1\n                break\n    most_common_browser = browser_counts.most_common(1)\n    if most_common_browser:\n        print(f\"Most popular browser: {most_common_browser[0][0]}\")\n\ndef count_hits_by_hour(data):\n    hour_counts = Counter()\n    for row in data:\n        dt = datetime.strptime(row[1], \"%m/%d/%Y %H:%M:%S\")\n        hour_counts[dt.hour] += 1\n    for hour, count in sorted(hour_counts.items(), key=lambda x: x[1], reverse=True):\n        print(f\"Hour {hour:02d} has {count} hits\")\n\ndef main():\n    url = \"http://s3.amazonaws.com/cuny-is211-spring2015/weblog.csv\"\n    file_lines = download_file(url)\n    data = process_csv(file_lines)\n    count_image_hits(data)\n    find_popular_browser(data)\n    count_hits_by_hour(data)\n\nif __name__ == \"__main__\":\n    main()\n",
      "metadata": {
        "trusted": true
      },
      "outputs": [],
      "execution_count": null
    },
    {
      "id": "dcee9739-53d1-4009-8b46-2c631cd80bce",
      "cell_type": "code",
      "source": "",
      "metadata": {
        "trusted": true
      },
      "outputs": [],
      "execution_count": null
    }
  ]
}